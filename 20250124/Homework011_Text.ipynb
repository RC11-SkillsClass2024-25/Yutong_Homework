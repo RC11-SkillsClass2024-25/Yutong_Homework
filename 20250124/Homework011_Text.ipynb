{
 "cells": [
  {
   "cell_type": "code",
   "execution_count": 141,
   "id": "8293e6c6-f9bd-4fab-a74a-eb91b19b55ec",
   "metadata": {},
   "outputs": [
    {
     "name": "stdout",
     "output_type": "stream",
     "text": [
      "The autoreload extension is already loaded. To reload it, use:\n",
      "  %reload_ext autoreload\n"
     ]
    }
   ],
   "source": [
    "%load_ext autoreload\n",
    "%autoreload 2"
   ]
  },
  {
   "cell_type": "code",
   "execution_count": 143,
   "id": "cec5a0b9-c6e3-4917-9166-c6cfaeab0cff",
   "metadata": {},
   "outputs": [],
   "source": [
    "import os\n",
    "from Homework01_Text import *"
   ]
  },
  {
   "cell_type": "markdown",
   "id": "f7feb8db-f557-4cbd-860e-ce47322a27d4",
   "metadata": {},
   "source": [
    "# TFIDF"
   ]
  },
  {
   "cell_type": "code",
   "execution_count": 145,
   "id": "601dca6d-40b8-42fd-8223-e8ea0ec8b047",
   "metadata": {
    "scrolled": true
   },
   "outputs": [
    {
     "name": "stdout",
     "output_type": "stream",
     "text": [
      "Warning: Paragraph from Book ID 1 resulted in an empty processed document.\n",
      "Warning: Paragraph from Book ID 1 resulted in an empty processed document.\n",
      "Warning: Paragraph from Book ID 1 resulted in an empty processed document.\n",
      "Warning: Paragraph from Book ID 3 resulted in an empty processed document.\n",
      "Warning: Paragraph from Book ID 3 resulted in an empty processed document.\n",
      "Top 6 most similar documents to the query:\n",
      "Document Index: 2067\n",
      "Document: dog run narrow circl\n",
      "Document: 2\n",
      "Document: 879\n",
      "\n",
      "Document Index: 2055\n",
      "Document: grass field must area boundari visibl though necessarili regular cannot unbound segment natur limit set natur focu eye yet within area minimum order minimum plan event neither crop regularli plant line fruit tree ideal\n",
      "Document: 2\n",
      "Document: 866\n",
      "\n",
      "Document Index: 570\n",
      "Document: recent princ charl interven squash redevelop chelsea barrack belgravia qatari royal famili commiss rrp scheme call apart half would afford spread fourteen glass steel build wa done utter disdain plan process design support council offic\n",
      "Document: 1\n",
      "Document: 597\n",
      "\n",
      "Document Index: 2064\n",
      "Document: saw man cri fall implic event would immedi break self suffici field would run outsid would tri take even physic action demand dramat event disadvantag\n",
      "Document: 2\n",
      "Document: 876\n",
      "\n",
      "Document Index: 2050\n",
      "Document: citi centr two way back satellit citi live main road lot traffic side road go level cross second quicker unless wait train cross spring earli summer invari take side road find hope level cross shut angl railway line road field surround two side tree grass tall field even sun low green grass divid light dark grain colour might happen bunch parsley lit beam power lamp night blackbird hide grass rise come go remain quit unaffect train\n",
      "Document: 2\n",
      "Document: 861\n",
      "\n",
      "Document Index: 69\n",
      "Document: abstract symbol effect also inflat millennium dome qualifi one balloon coloss one twelv meter mast twelv twelv hour month constel ultim inspir dome mike davi tell wa great sky cosmo event take place rrp remain proud structur certainli offic cannot blame financi problem confus content initi smorgasbord millennium experi exhibit current statu entertain complex cosmic associ grandios peopl regard dome white eleph rrp contribut world trade center site wa differ anim one tower propos group four other design david child foster fumihiko maki rrp scheme send mix messag glass facad extend beyond rooftop well steel cross brace support tower case column collaps event attack one hand rrp offer suggest transpar even spiritu respond contradictori rhetor american freedom perpetu funer ha pervad ground zero discuss sinc hand present imag secur even armor defens world also strong post talk contradict come site compound master plan mix offic build transport hub retail store anodyn cultur center huge memori design could make sens pseudo civic realm\n",
      "Document: 1\n",
      "Document: 77\n",
      "\n"
     ]
    }
   ],
   "source": [
    "search_paragraphs(\"running\", 6)"
   ]
  },
  {
   "cell_type": "markdown",
   "id": "2549d67d-6b19-4cef-9bef-914732bb5413",
   "metadata": {},
   "source": [
    "# LLM"
   ]
  },
  {
   "cell_type": "code",
   "execution_count": 175,
   "id": "c137a13b-0c88-4c37-b62c-fadc36fec7e5",
   "metadata": {
    "scrolled": true
   },
   "outputs": [
    {
     "name": "stderr",
     "output_type": "stream",
     "text": [
      "You're using a BertTokenizerFast tokenizer. Please note that with a fast tokenizer, using the `__call__` method is faster than using a method to encode the text followed by a call to the `pad` method to get a padded encoding.\n",
      "Inference Embeddings: 100%|██████████| 11/11 [04:36<00:00, 25.18s/it]\n"
     ]
    },
    {
     "data": {
      "text/plain": [
       "{'paragraph': '     Jiminy Crickett from the film “Pinocchio,” Walt Disney  His lack of alternatives, within his view of the human condition, is reflected in the lack of any thematic development in his life’s work. His progress, during 30 years, is a technical one of getting the worst into sharper focus. He succeeds, but at the same time the reiteration makes the worst less credible. That is his paradox. As you walk through room after room it becomes clear that you can live with the worst, that you can go on painting it again and again, that you can turn it into more and more elegant art, that you can put velvet and gold frames round it, that other people will buy it to hang on the walls of the rooms where they eat. It begins to seem that Bacon may be a charlatan. Yet he is not. And his fidelity to his own obsession ensures that the paradox of his art yields a consistent truth, though it may not be the truth he intends.',\n",
       " 'nr': 403,\n",
       " 'bookID': 2}"
      ]
     },
     "execution_count": 175,
     "metadata": {},
     "output_type": "execute_result"
    }
   ],
   "source": [
    "search_paragraph(\"pinapple\")"
   ]
  }
 ],
 "metadata": {
  "kernelspec": {
   "display_name": "Python 3 (ipykernel)",
   "language": "python",
   "name": "python3"
  },
  "language_info": {
   "codemirror_mode": {
    "name": "ipython",
    "version": 3
   },
   "file_extension": ".py",
   "mimetype": "text/x-python",
   "name": "python",
   "nbconvert_exporter": "python",
   "pygments_lexer": "ipython3",
   "version": "3.11.10"
  }
 },
 "nbformat": 4,
 "nbformat_minor": 5
}
