{
 "cells": [
  {
   "cell_type": "code",
   "execution_count": 69,
   "id": "9cef9ffd-6609-4f3b-a500-83bb1e3aefb8",
   "metadata": {},
   "outputs": [
    {
     "name": "stdout",
     "output_type": "stream",
     "text": [
      "The autoreload extension is already loaded. To reload it, use:\n",
      "  %reload_ext autoreload\n"
     ]
    }
   ],
   "source": [
    "%load_ext autoreload\n",
    "%autoreload 2"
   ]
  },
  {
   "cell_type": "code",
   "execution_count": 88,
   "id": "74ff60be-d427-4f9c-8f31-dd46f530f159",
   "metadata": {},
   "outputs": [],
   "source": [
    "import os\n",
    "from functionsaaa import *"
   ]
  },
  {
   "cell_type": "markdown",
   "id": "98bdccdb-4470-40ab-b607-0aea8c7c4e97",
   "metadata": {},
   "source": [
    "# LLM"
   ]
  },
  {
   "cell_type": "code",
   "execution_count": 100,
   "id": "23154332-dc21-47fd-882d-9a1fc182cc87",
   "metadata": {},
   "outputs": [],
   "source": [
    "process_books()"
   ]
  },
  {
   "cell_type": "code",
   "execution_count": 110,
   "id": "3f5f48e7-ab27-4659-b902-88b76a1ea6a2",
   "metadata": {},
   "outputs": [
    {
     "name": "stderr",
     "output_type": "stream",
     "text": [
      "C:\\Users\\24171\\AppData\\Roaming\\Python\\Python311\\site-packages\\tqdm\\auto.py:21: TqdmWarning: IProgress not found. Please update jupyter and ipywidgets. See https://ipywidgets.readthedocs.io/en/stable/user_install.html\n",
      "  from .autonotebook import tqdm as notebook_tqdm\n"
     ]
    },
    {
     "name": "stdout",
     "output_type": "stream",
     "text": [
      "WARNING:tensorflow:From C:\\Users\\24171\\.conda\\envs\\RC11_Skill\\Lib\\site-packages\\tf_keras\\src\\losses.py:2976: The name tf.losses.sparse_softmax_cross_entropy is deprecated. Please use tf.compat.v1.losses.sparse_softmax_cross_entropy instead.\n",
      "\n"
     ]
    },
    {
     "name": "stderr",
     "output_type": "stream",
     "text": [
      "You're using a BertTokenizerFast tokenizer. Please note that with a fast tokenizer, using the `__call__` method is faster than using a method to encode the text followed by a call to the `pad` method to get a padded encoding.\n",
      "Inference Embeddings: 100%|██████████| 11/11 [04:31<00:00, 24.65s/it]\n"
     ]
    },
    {
     "data": {
      "text/plain": [
       "{'paragraph': ' A third early painting is called Le Musée d’une nuit. It depicts four cupboard shelves. An apple lies on one shelf, a severed hand on the second, and a piece of lead on the third. Over the fourth opening is stuck a piece of pink paper with scissor-cut holes in it. Through the holes we see nothing but darkness. Yet we assume that the significant, the all-revealing exhibit of the night lies behind the paper on the fourth shelf.',\n",
       " 'nr': 549,\n",
       " 'bookID': 2}"
      ]
     },
     "execution_count": 110,
     "metadata": {},
     "output_type": "execute_result"
    }
   ],
   "source": [
    "search_paragraph('apple')"
   ]
  }
 ],
 "metadata": {
  "kernelspec": {
   "display_name": "Python 3 (ipykernel)",
   "language": "python",
   "name": "python3"
  },
  "language_info": {
   "codemirror_mode": {
    "name": "ipython",
    "version": 3
   },
   "file_extension": ".py",
   "mimetype": "text/x-python",
   "name": "python",
   "nbconvert_exporter": "python",
   "pygments_lexer": "ipython3",
   "version": "3.11.10"
  }
 },
 "nbformat": 4,
 "nbformat_minor": 5
}
